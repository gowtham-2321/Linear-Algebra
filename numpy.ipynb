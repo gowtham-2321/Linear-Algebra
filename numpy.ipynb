{
 "cells": [
  {
   "cell_type": "code",
   "execution_count": 3,
   "id": "49316717-7353-44a9-a3ab-d823bcae5a73",
   "metadata": {},
   "outputs": [],
   "source": [
    "import numpy as np"
   ]
  },
  {
   "cell_type": "code",
   "execution_count": 5,
   "id": "19f1a445-adf1-4471-ae90-4457fd7df484",
   "metadata": {},
   "outputs": [
    {
     "name": "stdout",
     "output_type": "stream",
     "text": [
      "[1 2 3 4]\n"
     ]
    }
   ],
   "source": [
    "arr = np.array([1,2,3,4])\n",
    "print(arr)\n"
   ]
  },
  {
   "cell_type": "code",
   "execution_count": 6,
   "id": "0e9b0d82-5a14-400c-af32-ba7227ba7c62",
   "metadata": {},
   "outputs": [
    {
     "name": "stdout",
     "output_type": "stream",
     "text": [
      "[[0. 0. 0.]\n",
      " [0. 0. 0.]\n",
      " [0. 0. 0.]]\n"
     ]
    }
   ],
   "source": [
    "#zero arrays\n",
    "za = np.zeros((3,3))\n",
    "print(za)"
   ]
  },
  {
   "cell_type": "markdown",
   "id": "4bba6d12-a0cd-4db2-b0a2-c5217c020ec0",
   "metadata": {},
   "source": [
    "#one arrays\n",
    "oa = np.ones((9,9))\n",
    "print(oa)"
   ]
  },
  {
   "cell_type": "code",
   "execution_count": 13,
   "id": "c6bd389d-48e1-400c-8838-38b8cd5a497b",
   "metadata": {},
   "outputs": [
    {
     "name": "stdout",
     "output_type": "stream",
     "text": [
      "[1 3 5 7 9]\n"
     ]
    }
   ],
   "source": [
    "#arrange function\n",
    "arange = np.arange(1,10,2)\n",
    "print(arange)"
   ]
  },
  {
   "cell_type": "code",
   "execution_count": 21,
   "id": "c99ff86f-c80a-42e0-b76e-6baf21c3c74a",
   "metadata": {},
   "outputs": [
    {
     "name": "stdout",
     "output_type": "stream",
     "text": [
      "[0.         0.03333333 0.06666667 0.1       ]\n"
     ]
    }
   ],
   "source": [
    "#linspace - evenly spaced values in a range\n",
    "ar = np.linspace(0,0.1,4)\n",
    "print(ar)"
   ]
  },
  {
   "cell_type": "code",
   "execution_count": 24,
   "id": "790950c3-1324-4cf2-a259-bd858ab08ca1",
   "metadata": {},
   "outputs": [
    {
     "name": "stdout",
     "output_type": "stream",
     "text": [
      "[3 5 7]\n"
     ]
    }
   ],
   "source": [
    "la1 = np.array([1,2,3])\n",
    "la2 = np.array([2,3,4])\n",
    "print(la1 + la2)"
   ]
  },
  {
   "cell_type": "code",
   "execution_count": null,
   "id": "d433f7b1-54a2-4e02-8d91-35b8b7b64fac",
   "metadata": {},
   "outputs": [],
   "source": []
  },
  {
   "cell_type": "code",
   "execution_count": null,
   "id": "a4eadb7b-cc5f-449c-80d7-0285ab423a11",
   "metadata": {},
   "outputs": [],
   "source": []
  }
 ],
 "metadata": {
  "kernelspec": {
   "display_name": "Python 3 (ipykernel)",
   "language": "python",
   "name": "python3"
  },
  "language_info": {
   "codemirror_mode": {
    "name": "ipython",
    "version": 3
   },
   "file_extension": ".py",
   "mimetype": "text/x-python",
   "name": "python",
   "nbconvert_exporter": "python",
   "pygments_lexer": "ipython3",
   "version": "3.12.3"
  }
 },
 "nbformat": 4,
 "nbformat_minor": 5
}
